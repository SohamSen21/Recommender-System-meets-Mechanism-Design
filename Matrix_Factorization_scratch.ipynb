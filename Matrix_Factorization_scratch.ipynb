{
  "nbformat": 4,
  "nbformat_minor": 0,
  "metadata": {
    "colab": {
      "provenance": [],
      "authorship_tag": "ABX9TyMr3VXhUkGSxpgLYCfQ5ivW",
      "include_colab_link": true
    },
    "kernelspec": {
      "name": "python3",
      "display_name": "Python 3"
    },
    "language_info": {
      "name": "python"
    }
  },
  "cells": [
    {
      "cell_type": "markdown",
      "metadata": {
        "id": "view-in-github",
        "colab_type": "text"
      },
      "source": [
        "<a href=\"https://colab.research.google.com/github/SohamSen21/Recommender-System-meets-Mechanism-Design/blob/main/Matrix_Factorization_scratch.ipynb\" target=\"_parent\"><img src=\"https://colab.research.google.com/assets/colab-badge.svg\" alt=\"Open In Colab\"/></a>"
      ]
    },
    {
      "cell_type": "code",
      "execution_count": 1,
      "metadata": {
        "id": "IYmZOspbuq3s"
      },
      "outputs": [],
      "source": [
        "import numpy as np\n",
        "\n",
        "def mf(R, k, n_epoch=5000, lr=.0003, l2=.04):\n",
        "  tol = .001  # Tolerant loss.\n",
        "  m, n = R.shape\n",
        "  # Initialize the embedding weights.\n",
        "  P = np.random.rand(m, k)\n",
        "  Q = np.random.rand(n, k)\n",
        "  for epoch in range(n_epoch):\n",
        "    # Update weights by gradients.\n",
        "    for u, i in zip(*R.nonzero()):\n",
        "      err_ui = R[u,i] - P[u,:].dot(Q[i,:])\n",
        "      for j in range(k):\n",
        "        P[u][j] += lr * (2 * err_ui * Q[i][j] - l2/2 * P[u][j])\n",
        "        Q[i][j] += lr * (2 * err_ui * P[u][j] - l2/2 * Q[i][j])\n",
        "    # compute the loss.\n",
        "    E = (R - P.dot(Q.T))**2\n",
        "    obj = E[R.nonzero()].sum() + lr*((P**2).sum() +(Q**2).sum())\n",
        "    if obj < tol:\n",
        "        break\n",
        "  return P, Q"
      ]
    },
    {
      "cell_type": "code",
      "source": [
        "np.random.seed(777)\n",
        "\n",
        "# Make missing more prevail.\n",
        "stars = np.arange(6)\n",
        "p = np.array([10, 1, 1, 1, 1, 1])\n",
        "m = 5\n",
        "n = 10\n",
        "\n",
        "# A 5-star rating matrix.\n",
        "ratings = np.random.choice(stars, size=m*n, p=p / p.sum()).reshape((m, n))\n",
        "print(ratings)"
      ],
      "metadata": {
        "colab": {
          "base_uri": "https://localhost:8080/"
        },
        "id": "fi0JTKMGuxv6",
        "outputId": "9fa6ffb1-e33f-4039-fd5a-b65d23444d98"
      },
      "execution_count": 2,
      "outputs": [
        {
          "output_type": "stream",
          "name": "stdout",
          "text": [
            "[[0 0 0 0 3 4 1 2 0 0]\n",
            " [0 0 0 0 5 0 1 0 0 0]\n",
            " [0 0 0 0 0 4 0 0 0 3]\n",
            " [0 0 0 0 0 0 0 4 2 0]\n",
            " [0 0 1 0 2 0 0 0 0 2]]\n"
          ]
        }
      ]
    },
    {
      "cell_type": "code",
      "source": [
        "P, Q = mf(ratings, k=3)\n",
        "\n",
        "print(P)  # User embeddings."
      ],
      "metadata": {
        "colab": {
          "base_uri": "https://localhost:8080/"
        },
        "id": "SPML7w2Qu3HD",
        "outputId": "ee5ffc82-9da6-4fa7-a124-6d6c7e7a9a33"
      },
      "execution_count": 3,
      "outputs": [
        {
          "output_type": "stream",
          "name": "stdout",
          "text": [
            "[[0.63030098 1.32632817 0.22731696]\n",
            " [0.91776555 1.65371568 1.13847576]\n",
            " [0.94394792 1.20334036 0.08460967]\n",
            " [1.48581284 1.84234102 0.85833273]\n",
            " [0.90108838 0.48804721 0.31216772]]\n"
          ]
        }
      ]
    },
    {
      "cell_type": "code",
      "source": [
        "print(Q)  # Item embeddings."
      ],
      "metadata": {
        "colab": {
          "base_uri": "https://localhost:8080/"
        },
        "id": "mnGHl1aPu9ec",
        "outputId": "03007a40-783f-4f57-fe9b-a9f8aa73b715"
      },
      "execution_count": 4,
      "outputs": [
        {
          "output_type": "stream",
          "name": "stdout",
          "text": [
            "[[ 0.69258857  0.83594341  0.42432199]\n",
            " [ 0.8487743   0.54679121  0.35410346]\n",
            " [ 0.73827766  0.1010681   0.87686572]\n",
            " [ 0.33625828  0.89183268  0.296849  ]\n",
            " [ 0.87169152  1.62740441  1.29970871]\n",
            " [ 1.50389245  2.12570844  0.65550343]\n",
            " [ 0.37660684  0.52827304 -0.1436639 ]\n",
            " [ 1.11657344  0.99507904  0.50060044]\n",
            " [ 0.32235812  0.39279822  0.93554762]\n",
            " [ 1.48046418  1.27550157  0.17612006]]\n"
          ]
        }
      ]
    },
    {
      "cell_type": "code",
      "source": [
        "# User similarity.\n",
        "l2 = np.sqrt(pow(P, 2).sum(axis=1))\n",
        "user_sim = P.dot(P.T) / np.outer(l2, l2)\n",
        "print(np.round(user_sim, 2))"
      ],
      "metadata": {
        "colab": {
          "base_uri": "https://localhost:8080/"
        },
        "id": "4I75NE4CvBQ_",
        "outputId": "0cd13de3-26c6-478c-e342-6c67512afadb"
      },
      "execution_count": 5,
      "outputs": [
        {
          "output_type": "stream",
          "name": "stdout",
          "text": [
            "[[1.   0.92 0.97 0.96 0.81]\n",
            " [0.92 1.   0.87 0.97 0.84]\n",
            " [0.97 0.87 1.   0.96 0.89]\n",
            " [0.96 0.97 0.96 1.   0.93]\n",
            " [0.81 0.84 0.89 0.93 1.  ]]\n"
          ]
        }
      ]
    },
    {
      "cell_type": "code",
      "source": [
        "# Not run.\n",
        "from sklearn.metrics.pairwise import cosine_similarity\n",
        "cosine_similarity(P)"
      ],
      "metadata": {
        "colab": {
          "base_uri": "https://localhost:8080/"
        },
        "id": "u3ZTx0S3vEQe",
        "outputId": "cc137549-4e4c-446c-a9ab-3d2f50646374"
      },
      "execution_count": 6,
      "outputs": [
        {
          "output_type": "execute_result",
          "data": {
            "text/plain": [
              "array([[1.        , 0.9238834 , 0.97105358, 0.95563301, 0.80800464],\n",
              "       [0.9238834 , 1.        , 0.8732077 , 0.96936203, 0.84127185],\n",
              "       [0.97105358, 0.8732077 , 1.        , 0.95740149, 0.89236845],\n",
              "       [0.95563301, 0.96936203, 0.95740149, 1.        , 0.92913622],\n",
              "       [0.80800464, 0.84127185, 0.89236845, 0.92913622, 1.        ]])"
            ]
          },
          "metadata": {},
          "execution_count": 6
        }
      ]
    },
    {
      "cell_type": "code",
      "source": [
        "predictions = P.dot(Q.T)\n",
        "mask = np.zeros_like(ratings)\n",
        "mask[ratings.nonzero()] = 1\n",
        "\n",
        "# Mask out unknown ratings as 0 for ease of comparison.\n",
        "print(np.round(predictions * mask, 2))"
      ],
      "metadata": {
        "colab": {
          "base_uri": "https://localhost:8080/"
        },
        "id": "z9QkqKswvHt_",
        "outputId": "4e62d07c-e787-47bf-94ac-78c51e996040"
      },
      "execution_count": 7,
      "outputs": [
        {
          "output_type": "stream",
          "name": "stdout",
          "text": [
            "[[0.   0.   0.   0.   3.   3.92 0.91 2.14 0.   0.  ]\n",
            " [0.   0.   0.   0.   4.97 0.   1.06 0.   0.   0.  ]\n",
            " [0.   0.   0.   0.   0.   4.03 0.   0.   0.   2.95]\n",
            " [0.   0.   0.   0.   0.   0.   0.   3.92 2.01 0.  ]\n",
            " [0.   0.   0.99 0.   1.99 0.   0.   0.   0.   2.01]]\n"
          ]
        }
      ]
    },
    {
      "cell_type": "code",
      "source": [
        "# Mask out known ratings as 0 for ease of comparison.\n",
        "print(np.round(predictions * (1 - mask), 2))"
      ],
      "metadata": {
        "colab": {
          "base_uri": "https://localhost:8080/"
        },
        "id": "66pw-535vJZi",
        "outputId": "dedb11d8-7def-4a85-db6a-deb65562aa61"
      },
      "execution_count": 8,
      "outputs": [
        {
          "output_type": "stream",
          "name": "stdout",
          "text": [
            "[[1.64 1.34 0.8  1.46 0.   0.   0.   0.   0.94 2.66]\n",
            " [2.5  2.09 1.84 2.12 0.   5.64 0.   3.24 2.01 3.67]\n",
            " [1.7  1.49 0.89 1.42 2.89 0.   0.98 2.29 0.86 0.  ]\n",
            " [2.93 2.57 2.04 2.4  5.41 6.71 1.41 0.   0.   4.7 ]\n",
            " [1.16 1.14 0.   0.83 0.   2.6  0.55 1.65 0.77 0.  ]]\n"
          ]
        }
      ]
    }
  ]
}